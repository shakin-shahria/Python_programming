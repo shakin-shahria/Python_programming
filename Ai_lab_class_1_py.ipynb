{
  "nbformat": 4,
  "nbformat_minor": 0,
  "metadata": {
    "colab": {
      "provenance": [],
      "authorship_tag": "ABX9TyOcJskEKYw+1kHTRjfo23Ft",
      "include_colab_link": true
    },
    "kernelspec": {
      "name": "python3",
      "display_name": "Python 3"
    },
    "language_info": {
      "name": "python"
    }
  },
  "cells": [
    {
      "cell_type": "markdown",
      "metadata": {
        "id": "view-in-github",
        "colab_type": "text"
      },
      "source": [
        "<a href=\"https://colab.research.google.com/github/shakin-shahria/Python_programming/blob/main/Ai_lab_class_1_py.ipynb\" target=\"_parent\"><img src=\"https://colab.research.google.com/assets/colab-badge.svg\" alt=\"Open In Colab\"/></a>"
      ]
    },
    {
      "cell_type": "code",
      "execution_count": null,
      "metadata": {
        "colab": {
          "base_uri": "https://localhost:8080/"
        },
        "id": "CPZ9nlnWvH9r",
        "outputId": "da7ff618-1b9d-4117-bdc3-1d2ef43a4404"
      },
      "outputs": [
        {
          "output_type": "stream",
          "name": "stdout",
          "text": [
            "Hello world\n",
            "Fardin missing you\n"
          ]
        }
      ],
      "source": [
        "print(\"Hello world\")\n",
        "print (\"Fardin missing you\")"
      ]
    },
    {
      "cell_type": "code",
      "source": [
        "student_ID = 11201055 \n",
        "student_name = \"Fardin\"\n",
        "student_cgpa =3.99\n",
        "is_eligible = True\n",
        "#allow multiple line \n",
        "message= \"\"\"Welcome \n",
        "not there\"\"\"\n"
      ],
      "metadata": {
        "id": "Lao3M6E3R_qe"
      },
      "execution_count": null,
      "outputs": []
    },
    {
      "cell_type": "code",
      "source": [
        "#values\n",
        "print(student_ID)\n",
        "print(student_name)\n",
        "#print data type\n",
        "print(type(student_ID),type(student_name))\n",
        "print (message)\n"
      ],
      "metadata": {
        "colab": {
          "base_uri": "https://localhost:8080/"
        },
        "id": "ZH7ZnMjAU2Hx",
        "outputId": "fd4571e3-59c7-4176-9477-b0f97da6db70"
      },
      "execution_count": null,
      "outputs": [
        {
          "output_type": "stream",
          "name": "stdout",
          "text": [
            "11201055\n",
            "Fardin\n",
            "<class 'int'> <class 'str'>\n",
            "Welcome \n",
            "not there\n"
          ]
        }
      ]
    },
    {
      "cell_type": "markdown",
      "source": [
        "Variable"
      ],
      "metadata": {
        "id": "hKuCDaemX37P"
      }
    },
    {
      "cell_type": "code",
      "source": [
        "x=3\n",
        "y=6.7\n",
        "z= 3 + 2j\n"
      ],
      "metadata": {
        "id": "qsLnDGdtX7me"
      },
      "execution_count": null,
      "outputs": []
    },
    {
      "cell_type": "code",
      "source": [
        "print((z.real))\n",
        "print(z)"
      ],
      "metadata": {
        "colab": {
          "base_uri": "https://localhost:8080/"
        },
        "id": "KAD1rVoDYK6G",
        "outputId": "d0f3f59a-540b-42b4-fa23-7d50bd4b2653"
      },
      "execution_count": null,
      "outputs": [
        {
          "output_type": "stream",
          "name": "stdout",
          "text": [
            "3.0\n",
            "(3+2j)\n"
          ]
        }
      ]
    },
    {
      "cell_type": "code",
      "source": [
        "#input\n",
        "\n",
        "a = int (input(\"Enter a number : \"))\n"
      ],
      "metadata": {
        "colab": {
          "base_uri": "https://localhost:8080/"
        },
        "id": "jzNzKmkaYryt",
        "outputId": "6769dba9-93e1-479b-e089-932dcced3f10"
      },
      "execution_count": null,
      "outputs": [
        {
          "name": "stdout",
          "output_type": "stream",
          "text": [
            "Enter a number : 56\n"
          ]
        }
      ]
    },
    {
      "cell_type": "code",
      "source": [
        "z = a + 10\n",
        "# concatenate\n",
        "print(z)"
      ],
      "metadata": {
        "colab": {
          "base_uri": "https://localhost:8080/"
        },
        "id": "-jF82aIcZDcv",
        "outputId": "034c8774-0e58-467d-e705-7e75de2a6dfd"
      },
      "execution_count": null,
      "outputs": [
        {
          "output_type": "stream",
          "name": "stdout",
          "text": [
            "66\n"
          ]
        }
      ]
    },
    {
      "cell_type": "code",
      "source": [
        "#string\n",
        "message = \"python is a snake\"\n",
        "#message lenght\n",
        "print (len(message))\n",
        "print(message[-1])  # negative index can access reverse\n",
        "print(message[0:8]) #Printing a portion\n",
        "print(message[:9]) \n",
        "print(message.find(\"py\"))#finfind the text ... returs index number ...-1 if not present\n",
        "print(message.replace(\"p\",\"k\")) #replaceing\n",
        "\n"
      ],
      "metadata": {
        "colab": {
          "base_uri": "https://localhost:8080/"
        },
        "id": "xFTBin_qaGym",
        "outputId": "0be3ced9-6f3f-40e7-f1a3-258553f77e66"
      },
      "execution_count": null,
      "outputs": [
        {
          "output_type": "stream",
          "name": "stdout",
          "text": [
            "17\n",
            "e\n",
            "python i\n",
            "python is\n",
            "0\n",
            "kython is a snake\n"
          ]
        }
      ]
    },
    {
      "cell_type": "code",
      "source": [
        "#operator\n",
        "#1. arithmatic\n",
        "x= 6\n",
        "y= 3\n",
        "print(x+y)\n",
        "print(x-y)\n",
        "print(x*y)\n",
        "print(x/y)\n",
        "print(x%y)\n",
        "print(x**y)\n",
        "print(x//y)\n",
        "#2.logical\n",
        "\n",
        "print (2<5 and 2 ==5)\n",
        "print (2<5 and not 2 ==5)\n",
        "\n",
        "\n",
        "#3.relational\n",
        "print(2 == 5)\n",
        "print(2< 5)\n",
        "\n",
        "#shorthand\n",
        "\n",
        "x= x + 10\n",
        "x +=10\n",
        "\n",
        "\n",
        "\n"
      ],
      "metadata": {
        "colab": {
          "base_uri": "https://localhost:8080/"
        },
        "id": "c224DGi6dV8Y",
        "outputId": "8b7a6887-09b8-48ed-82f2-e05a346e60eb"
      },
      "execution_count": null,
      "outputs": [
        {
          "output_type": "stream",
          "name": "stdout",
          "text": [
            "9\n",
            "3\n",
            "18\n",
            "2.0\n",
            "0\n",
            "216\n",
            "2\n",
            "False\n"
          ]
        }
      ]
    },
    {
      "cell_type": "code",
      "source": [
        "a = int (input(\"Enter a  number: \"))\n",
        "\n"
      ],
      "metadata": {
        "colab": {
          "base_uri": "https://localhost:8080/"
        },
        "id": "SJIMuSR7ebXO",
        "outputId": "1512c853-585d-4bde-eebc-961620b65e80"
      },
      "execution_count": null,
      "outputs": [
        {
          "name": "stdout",
          "output_type": "stream",
          "text": [
            "Enter a  number: 5656\n"
          ]
        }
      ]
    },
    {
      "cell_type": "code",
      "source": [
        "#conditional statement\n",
        "gender = 'f' or gender == 'f'\n",
        "if gender == 'f':\n",
        "  print(\"welcome\")\n",
        "elif gender == 'm'  \n",
        "else:\n",
        "    print(\"sorry\")\n"
      ],
      "metadata": {
        "colab": {
          "base_uri": "https://localhost:8080/"
        },
        "id": "crtZZYf3f3zy",
        "outputId": "a6993c9b-7c9b-4a9b-abf5-f1ef90033f01"
      },
      "execution_count": null,
      "outputs": [
        {
          "output_type": "stream",
          "name": "stdout",
          "text": [
            "welcome\n"
          ]
        }
      ]
    },
    {
      "cell_type": "code",
      "source": [
        "for i in range(5): # range (start, end , stepsize)\n",
        "  print(f\"i:{i}\")\n"
      ],
      "metadata": {
        "colab": {
          "base_uri": "https://localhost:8080/"
        },
        "id": "2fFZcc8Ok0th",
        "outputId": "fbf64d06-fbad-457f-ef09-8441c7ab0dfe"
      },
      "execution_count": null,
      "outputs": [
        {
          "output_type": "stream",
          "name": "stdout",
          "text": [
            "i:0\n",
            "i:1\n",
            "i:2\n",
            "i:3\n",
            "i:4\n"
          ]
        }
      ]
    },
    {
      "cell_type": "code",
      "source": [
        "for i in range (1,5,1) :\n",
        "  \n",
        "   print(\" \"*(6-i)\"+* n-i\" *i)"
      ],
      "metadata": {
        "colab": {
          "base_uri": "https://localhost:8080/",
          "height": 130
        },
        "id": "tf9BmKzAlzZk",
        "outputId": "c6d67a9d-0f25-44f8-c18a-9409015d4e4b"
      },
      "execution_count": null,
      "outputs": [
        {
          "output_type": "error",
          "ename": "SyntaxError",
          "evalue": "ignored",
          "traceback": [
            "\u001b[0;36m  File \u001b[0;32m\"<ipython-input-97-e071e95f93fb>\"\u001b[0;36m, line \u001b[0;32m3\u001b[0m\n\u001b[0;31m    print(\" \"*(6-i)\"+* n-i\" *i)\u001b[0m\n\u001b[0m          ^\u001b[0m\n\u001b[0;31mSyntaxError\u001b[0m\u001b[0;31m:\u001b[0m invalid syntax. Perhaps you forgot a comma?\n"
          ]
        }
      ]
    }
  ]
}