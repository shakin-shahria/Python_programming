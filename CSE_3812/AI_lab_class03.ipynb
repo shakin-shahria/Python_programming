{
  "cells": [
    {
      "cell_type": "markdown",
      "metadata": {
        "id": "view-in-github",
        "colab_type": "text"
      },
      "source": [
        "<a href=\"https://colab.research.google.com/github/shakin-shahria/Python_programming/blob/main/CSE_3812/AI_lab_class03.ipynb\" target=\"_parent\"><img src=\"https://colab.research.google.com/assets/colab-badge.svg\" alt=\"Open In Colab\"/></a>"
      ]
    },
    {
      "cell_type": "code",
      "execution_count": null,
      "metadata": {
        "colab": {
          "background_save": true
        },
        "id": "PUE2HO96UVHZ",
        "outputId": "5d0e6d1e-8b7a-421c-e1ba-49eadf1c8dec"
      },
      "outputs": [
        {
          "name": "stdout",
          "output_type": "stream",
          "text": [
            "hello\n"
          ]
        }
      ],
      "source": [
        "print(\"hello\")"
      ]
    },
    {
      "cell_type": "code",
      "source": [
        "class My_color:\n",
        "      white = \"RED+BLUE+Green\"\n",
        "c1 = My_color()\n",
        "print(c1.white)"
      ],
      "metadata": {
        "id": "QdD5cceouoUz",
        "colab": {
          "base_uri": "https://localhost:8080/"
        },
        "outputId": "31f6c210-3cf1-4e41-cacb-ff9e78223add"
      },
      "execution_count": null,
      "outputs": [
        {
          "output_type": "stream",
          "name": "stdout",
          "text": [
            "RED+BLUE+Green\n"
          ]
        }
      ]
    },
    {
      "cell_type": "code",
      "source": [
        "## Class,Obj,Function\n",
        "class Bat:\n",
        "  def __init__(self,size,color):\n",
        "        self.size= size\n",
        "        self.color= color\n",
        "c1 = Bat(\"55\",\"red\")\n",
        "print(\"Bat size:\",c1.size)\n",
        "print(\"Bat color \",c1.color)\n"
      ],
      "metadata": {
        "colab": {
          "base_uri": "https://localhost:8080/"
        },
        "id": "5h8MdvrWX_zy",
        "outputId": "7bfd26f5-66f7-43e7-a07e-3e7e6187c292"
      },
      "execution_count": null,
      "outputs": [
        {
          "output_type": "stream",
          "name": "stdout",
          "text": [
            "Bat size: 55\n",
            "Bat color  red\n"
          ]
        }
      ]
    },
    {
      "cell_type": "code",
      "source": [
        "## Inheritence\n",
        "class papa:\n",
        "  def __init__(self,eyes,height):\n",
        "      self.eyes = eyes\n",
        "      self.height = height\n",
        "c1 = papa(\"red\", \"1127cm\")\n",
        "#print(c1.eyes)\n",
        "\n",
        "class son (papa):\n",
        "  def __init__(self, eyes, height):\n",
        "      super().__init__(eyes, height)\n",
        "\n",
        "c2 = son (\"pale red\", \"1231cm\")\n",
        "print (c2.eyes)"
      ],
      "metadata": {
        "colab": {
          "base_uri": "https://localhost:8080/"
        },
        "id": "UUScotn7-lnG",
        "outputId": "93c011ce-9c61-4ffd-8ea3-ad0dc3133f26"
      },
      "execution_count": null,
      "outputs": [
        {
          "output_type": "stream",
          "name": "stdout",
          "text": [
            "pale red\n"
          ]
        }
      ]
    },
    {
      "cell_type": "code",
      "source": [
        "## NumPy\n",
        "import numpy as np\n",
        "Array = np.array([1,2,3,4,56])\n",
        "print(Array)"
      ],
      "metadata": {
        "colab": {
          "base_uri": "https://localhost:8080/"
        },
        "id": "X3SF7y58ed3s",
        "outputId": "a24c5e0a-b6cf-4197-ae1c-b67a8091001a"
      },
      "execution_count": 5,
      "outputs": [
        {
          "output_type": "stream",
          "name": "stdout",
          "text": [
            "[ 1  2  3  4 56]\n"
          ]
        }
      ]
    },
    {
      "cell_type": "code",
      "source": [
        "## 2-d array\n",
        "\n",
        "import numpy\n",
        "Array = numpy.array([[2,3,4],[2,3,4]])\n",
        "print(Array)\n"
      ],
      "metadata": {
        "colab": {
          "base_uri": "https://localhost:8080/"
        },
        "id": "dXSKGSrCgXz7",
        "outputId": "358e80d1-1541-4a48-d111-69e8939fdfa8"
      },
      "execution_count": 10,
      "outputs": [
        {
          "output_type": "stream",
          "name": "stdout",
          "text": [
            "[[2 3 4]\n",
            " [2 3 4]]\n"
          ]
        }
      ]
    },
    {
      "cell_type": "code",
      "source": [
        "# check the number of dimensions\n",
        "\n",
        "import numpy\n",
        "a= numpy.array(7)\n",
        "b= numpy.array([[343,34534,78,],[3424,45,5675]])\n",
        "c= numpy.array([[4,5,6],[44,21,45],[46,14,77]])\n",
        "print(a.ndim)\n",
        "print(b.ndim)\n",
        "print(c.ndim)"
      ],
      "metadata": {
        "colab": {
          "base_uri": "https://localhost:8080/"
        },
        "id": "3v6bucUdkCHK",
        "outputId": "74b7217a-240b-4a27-b5bf-755139f0e2ac"
      },
      "execution_count": 11,
      "outputs": [
        {
          "output_type": "stream",
          "name": "stdout",
          "text": [
            "0\n",
            "2\n",
            "2\n"
          ]
        }
      ]
    },
    {
      "cell_type": "code",
      "source": [
        "#higher dimension of arrays\n",
        "\n",
        "import numpy as np\n",
        "a = np.array([2,4,5,6,7,8], ndmin=7)\n",
        "print(a)\n",
        "print(\"number of dimensions:\", a.ndim)"
      ],
      "metadata": {
        "colab": {
          "base_uri": "https://localhost:8080/"
        },
        "id": "AeJozvjkl9G4",
        "outputId": "532223e0-3699-46d3-a55a-4256a80f6052"
      },
      "execution_count": 18,
      "outputs": [
        {
          "output_type": "stream",
          "name": "stdout",
          "text": [
            "[[[[[[[2 4 5 6 7 8]]]]]]]\n",
            "number of dimensions: 7\n"
          ]
        }
      ]
    },
    {
      "cell_type": "code",
      "source": [
        "## array indexing\n",
        "\n",
        "import numpy\n",
        "Array = numpy.array([[2,3,4],[77,55,99],[1111,333333,6666666]])\n",
        "#print(Array)\n",
        "print(Array[0]+ Array[2])\n"
      ],
      "metadata": {
        "colab": {
          "base_uri": "https://localhost:8080/"
        },
        "outputId": "a61b8285-1d3a-4d9c-dcf3-97ee7319e98f",
        "id": "U16lIjxQnzuO"
      },
      "execution_count": 27,
      "outputs": [
        {
          "output_type": "stream",
          "name": "stdout",
          "text": [
            "[   1113  333336 6666670]\n"
          ]
        }
      ]
    },
    {
      "cell_type": "code",
      "source": [
        "import numpy as np\n",
        "a = np.array ([[2,3,4,],[33,44,6,],[222,7777,888]])\n",
        "print('This is the 3rd element of 2nd roe: ', a[1,2]) # inside the a[1,2] 1 indicates the row/array and 2 indicates the colum/element"
      ],
      "metadata": {
        "colab": {
          "base_uri": "https://localhost:8080/"
        },
        "id": "TbUCpJ6pZFMW",
        "outputId": "83e7c722-382a-4680-f69a-0b5a747b29aa"
      },
      "execution_count": 7,
      "outputs": [
        {
          "output_type": "stream",
          "name": "stdout",
          "text": [
            "This is the 3rd element of 2nd roe:  6\n"
          ]
        }
      ]
    },
    {
      "cell_type": "code",
      "source": [
        "# Array slicing\n",
        "\n",
        "import numpy as np\n",
        "\n",
        "a = np.array([1,2,3,4,5,6,7,33,555,777,8888])\n",
        "\n",
        "print(a[4:])\n",
        "print(a[:6])\n",
        "print(a[2:5])\n",
        "print(a[-3:-1])\n",
        "\n"
      ],
      "metadata": {
        "colab": {
          "base_uri": "https://localhost:8080/"
        },
        "id": "1yngyMT6a0zA",
        "outputId": "27d113dd-df6d-4ccd-eb1e-c54f1313bee1"
      },
      "execution_count": 12,
      "outputs": [
        {
          "output_type": "stream",
          "name": "stdout",
          "text": [
            "[   5    6    7   33  555  777 8888]\n",
            "[1 2 3 4 5 6]\n",
            "[3 4 5]\n",
            "[555 777]\n"
          ]
        }
      ]
    },
    {
      "cell_type": "code",
      "source": [
        "#Step\n",
        "\n",
        "import numpy as np\n",
        "\n",
        "a = np.array([2,434,565,87878,989,433322,4343])\n",
        "print(a[1:-1:2])\n"
      ],
      "metadata": {
        "colab": {
          "base_uri": "https://localhost:8080/"
        },
        "id": "ueOeQxl-cUJC",
        "outputId": "8a10134e-f702-4d72-d115-d248355ccca2"
      },
      "execution_count": 13,
      "outputs": [
        {
          "output_type": "stream",
          "name": "stdout",
          "text": [
            "[   434  87878 433322]\n"
          ]
        }
      ]
    },
    {
      "cell_type": "code",
      "source": [
        "#slicing 2d array\n",
        "\n",
        "\n",
        "import numpy as np\n",
        "a = np.array ([[1,2,3],[11,22,33]])\n",
        "print(a[0,1:])"
      ],
      "metadata": {
        "colab": {
          "base_uri": "https://localhost:8080/"
        },
        "id": "OCI9A2TcdUKQ",
        "outputId": "8ede27d9-04a3-4105-b919-eb85eff76fa4"
      },
      "execution_count": 16,
      "outputs": [
        {
          "output_type": "stream",
          "name": "stdout",
          "text": [
            "[2 3]\n"
          ]
        }
      ]
    },
    {
      "cell_type": "code",
      "source": [
        "import numpy as np\n",
        "\n",
        "a = np.array([[1,2,3],[22,33,44]])\n",
        "print(a[0:2,1:4]) # firsr part indicates row 0 to 2 and the second part indicates colum 1 to 4\n"
      ],
      "metadata": {
        "colab": {
          "base_uri": "https://localhost:8080/"
        },
        "id": "42cxmZxBd0W4",
        "outputId": "587cc15f-1a84-45ee-ff96-cbde5c23a649"
      },
      "execution_count": 17,
      "outputs": [
        {
          "output_type": "stream",
          "name": "stdout",
          "text": [
            "[[ 2  3]\n",
            " [33 44]]\n"
          ]
        }
      ]
    },
    {
      "cell_type": "code",
      "source": [
        "#array reshaping\n",
        "import numpy as np\n",
        "a = np.array([1,2,3,44,666,777,888,999])\n",
        "print(a)\n",
        "new_a = a.reshape(2,2,-1)\n",
        "print(\"new array is: \",new_a)\n",
        "# the reshaping operation transforms the 1-dimensional array a into a 3-dimensional array 'new_a' with dimensions (2, 2, n),\n",
        "# where n depends on the number of elements in 'a'"
      ],
      "metadata": {
        "colab": {
          "base_uri": "https://localhost:8080/"
        },
        "id": "TLIiBEuIPrgg",
        "outputId": "132ba8cc-725e-4ad6-f96c-6c555aea5780"
      },
      "execution_count": 4,
      "outputs": [
        {
          "output_type": "stream",
          "name": "stdout",
          "text": [
            "[  1   2   3  44 666 777 888 999]\n",
            "new array is:  [[[  1   2]\n",
            "  [  3  44]]\n",
            "\n",
            " [[666 777]\n",
            "  [888 999]]]\n"
          ]
        }
      ]
    },
    {
      "cell_type": "code",
      "source": [
        "#pandas\n",
        "\n",
        "import pandas as pd\n",
        "mydataset = {\n",
        "\n",
        "             'cars' : [\"BMW\", \"VOLVO\"],\n",
        "             'passing' : [\"45\",\"232\"]\n",
        "\n",
        "}\n",
        "print(mydataset)\n",
        "myvar = pd.DataFrame (mydataset)\n",
        "print(myvar)\n"
      ],
      "metadata": {
        "colab": {
          "base_uri": "https://localhost:8080/"
        },
        "id": "PvRVeK1rTgpv",
        "outputId": "6c1f9c1b-55e5-4d51-cfb7-9fd5e649d2b9"
      },
      "execution_count": 7,
      "outputs": [
        {
          "output_type": "stream",
          "name": "stdout",
          "text": [
            "{'cars': ['BMW', 'VOLVO'], 'passing': ['45', '232']}\n",
            "    cars passing\n",
            "0    BMW      45\n",
            "1  VOLVO     232\n"
          ]
        }
      ]
    },
    {
      "cell_type": "code",
      "source": [
        "# pandas_taking input from file\n",
        "import pandas as pd\n",
        "df = pd. read_csv(\"data.csv\")\n",
        "print(df.to_string())"
      ],
      "metadata": {
        "colab": {
          "base_uri": "https://localhost:8080/"
        },
        "id": "u3woYTlXs5xP",
        "outputId": "824f30ba-eabe-415d-e63f-36570f032db7"
      },
      "execution_count": null,
      "outputs": [
        {
          "output_type": "stream",
          "name": "stdout",
          "text": [
            "     Duration  Pulse  Maxpulse  Calories\n",
            "0          60    110       130     409.1\n",
            "1          60    117       145     479.0\n",
            "2          60    103       135     340.0\n",
            "3          45    109       175     282.4\n",
            "4          45    117       148     406.0\n",
            "5          60    102       127     300.0\n",
            "6          60    110       136     374.0\n",
            "7          45    104       134     253.3\n",
            "8          30    109       133     195.1\n",
            "9          60     98       124     269.0\n",
            "10         60    103       147     329.3\n",
            "11         60    100       120     250.7\n",
            "12         60    106       128     345.3\n",
            "13         60    104       132     379.3\n",
            "14         60     98       123     275.0\n",
            "15         60     98       120     215.2\n",
            "16         60    100       120     300.0\n",
            "17         45     90       112       NaN\n",
            "18         60    103       123     323.0\n",
            "19         45     97       125     243.0\n",
            "20         60    108       131     364.2\n",
            "21         45    100       119     282.0\n",
            "22         60    130       101     300.0\n",
            "23         45    105       132     246.0\n",
            "24         60    102       126     334.5\n",
            "25         60    100       120     250.0\n",
            "26         60     92       118     241.0\n",
            "27         60    103       132       NaN\n",
            "28         60    100       132     280.0\n",
            "29         60    102       129     380.3\n",
            "30         60     92       115     243.0\n",
            "31         45     90       112     180.1\n",
            "32         60    101       124     299.0\n",
            "33         60     93       113     223.0\n",
            "34         60    107       136     361.0\n",
            "35         60    114       140     415.0\n",
            "36         60    102       127     300.0\n",
            "37         60    100       120     300.0\n",
            "38         60    100       120     300.0\n",
            "39         45    104       129     266.0\n",
            "40         45     90       112     180.1\n",
            "41         60     98       126     286.0\n",
            "42         60    100       122     329.4\n",
            "43         60    111       138     400.0\n",
            "44         60    111       131     397.0\n",
            "45         60     99       119     273.0\n",
            "46         60    109       153     387.6\n",
            "47         45    111       136     300.0\n",
            "48         45    108       129     298.0\n",
            "49         60    111       139     397.6\n",
            "50         60    107       136     380.2\n",
            "51         80    123       146     643.1\n",
            "52         60    106       130     263.0\n",
            "53         60    118       151     486.0\n",
            "54         30    136       175     238.0\n",
            "55         60    121       146     450.7\n",
            "56         60    118       121     413.0\n",
            "57         45    115       144     305.0\n",
            "58         20    153       172     226.4\n",
            "59         45    123       152     321.0\n",
            "60        210    108       160    1376.0\n",
            "61        160    110       137    1034.4\n",
            "62        160    109       135     853.0\n",
            "63         45    118       141     341.0\n",
            "64         20    110       130     131.4\n",
            "65        180     90       130     800.4\n",
            "66        150    105       135     873.4\n",
            "67        150    107       130     816.0\n",
            "68         20    106       136     110.4\n",
            "69        300    108       143    1500.2\n",
            "70        150     97       129    1115.0\n",
            "71         60    109       153     387.6\n",
            "72         90    100       127     700.0\n",
            "73        150     97       127     953.2\n",
            "74         45    114       146     304.0\n",
            "75         90     98       125     563.2\n",
            "76         45    105       134     251.0\n",
            "77         45    110       141     300.0\n",
            "78        120    100       130     500.4\n",
            "79        270    100       131    1729.0\n",
            "80         30    159       182     319.2\n",
            "81         45    149       169     344.0\n",
            "82         30    103       139     151.1\n",
            "83        120    100       130     500.0\n",
            "84         45    100       120     225.3\n",
            "85         30    151       170     300.0\n",
            "86         45    102       136     234.0\n",
            "87        120    100       157    1000.1\n",
            "88         45    129       103     242.0\n",
            "89         20     83       107      50.3\n",
            "90        180    101       127     600.1\n",
            "91         45    107       137       NaN\n",
            "92         30     90       107     105.3\n",
            "93         15     80       100      50.5\n",
            "94         20    150       171     127.4\n",
            "95         20    151       168     229.4\n",
            "96         30     95       128     128.2\n",
            "97         25    152       168     244.2\n",
            "98         30    109       131     188.2\n",
            "99         90     93       124     604.1\n",
            "100        20     95       112      77.7\n",
            "101        90     90       110     500.0\n",
            "102        90     90       100     500.0\n",
            "103        90     90       100     500.4\n",
            "104        30     92       108      92.7\n",
            "105        30     93       128     124.0\n",
            "106       180     90       120     800.3\n",
            "107        30     90       120      86.2\n",
            "108        90     90       120     500.3\n",
            "109       210    137       184    1860.4\n",
            "110        60    102       124     325.2\n",
            "111        45    107       124     275.0\n",
            "112        15    124       139     124.2\n",
            "113        45    100       120     225.3\n",
            "114        60    108       131     367.6\n",
            "115        60    108       151     351.7\n",
            "116        60    116       141     443.0\n",
            "117        60     97       122     277.4\n",
            "118        60    105       125       NaN\n",
            "119        60    103       124     332.7\n",
            "120        30    112       137     193.9\n",
            "121        45    100       120     100.7\n",
            "122        60    119       169     336.7\n",
            "123        60    107       127     344.9\n",
            "124        60    111       151     368.5\n",
            "125        60     98       122     271.0\n",
            "126        60     97       124     275.3\n",
            "127        60    109       127     382.0\n",
            "128        90     99       125     466.4\n",
            "129        60    114       151     384.0\n",
            "130        60    104       134     342.5\n",
            "131        60    107       138     357.5\n",
            "132        60    103       133     335.0\n",
            "133        60    106       132     327.5\n",
            "134        60    103       136     339.0\n",
            "135        20    136       156     189.0\n",
            "136        45    117       143     317.7\n",
            "137        45    115       137     318.0\n",
            "138        45    113       138     308.0\n",
            "139        20    141       162     222.4\n",
            "140        60    108       135     390.0\n",
            "141        60     97       127       NaN\n",
            "142        45    100       120     250.4\n",
            "143        45    122       149     335.4\n",
            "144        60    136       170     470.2\n",
            "145        45    106       126     270.8\n",
            "146        60    107       136     400.0\n",
            "147        60    112       146     361.9\n",
            "148        30    103       127     185.0\n",
            "149        60    110       150     409.4\n",
            "150        60    106       134     343.0\n",
            "151        60    109       129     353.2\n",
            "152        60    109       138     374.0\n",
            "153        30    150       167     275.8\n",
            "154        60    105       128     328.0\n",
            "155        60    111       151     368.5\n",
            "156        60     97       131     270.4\n",
            "157        60    100       120     270.4\n",
            "158        60    114       150     382.8\n",
            "159        30     80       120     240.9\n",
            "160        30     85       120     250.4\n",
            "161        45     90       130     260.4\n",
            "162        45     95       130     270.0\n",
            "163        45    100       140     280.9\n",
            "164        60    105       140     290.8\n",
            "165        60    110       145     300.0\n",
            "166        60    115       145     310.2\n",
            "167        75    120       150     320.4\n",
            "168        75    125       150     330.4\n"
          ]
        }
      ]
    }
  ],
  "metadata": {
    "colab": {
      "provenance": [],
      "authorship_tag": "ABX9TyN2g3dDNIVDLZr8HWkVFv5q",
      "include_colab_link": true
    },
    "kernelspec": {
      "display_name": "Python 3",
      "name": "python3"
    },
    "language_info": {
      "name": "python"
    }
  },
  "nbformat": 4,
  "nbformat_minor": 0
}