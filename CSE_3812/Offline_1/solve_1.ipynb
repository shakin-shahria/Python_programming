{
  "nbformat": 4,
  "nbformat_minor": 0,
  "metadata": {
    "colab": {
      "provenance": [],
      "authorship_tag": "ABX9TyN/T+6EyZiXgAkN7tHfU+fe",
      "include_colab_link": true
    },
    "kernelspec": {
      "name": "python3",
      "display_name": "Python 3"
    },
    "language_info": {
      "name": "python"
    }
  },
  "cells": [
    {
      "cell_type": "markdown",
      "metadata": {
        "id": "view-in-github",
        "colab_type": "text"
      },
      "source": [
        "<a href=\"https://colab.research.google.com/github/shakin-shahria/Python_programming/blob/main/CSE_3812/Offline_1/solve_1.ipynb\" target=\"_parent\"><img src=\"https://colab.research.google.com/assets/colab-badge.svg\" alt=\"Open In Colab\"/></a>"
      ]
    },
    {
      "cell_type": "code",
      "source": [
        "import heapq\n",
        "# In this grid 7 is the starting state and 9 is the goal state 1 = pathe available and 0 = no path\n",
        "grid = [[7, 0, 1, 1, 1, 1, 1, 0, 1, 1, 1, 1, 1, 1, 1],\n",
        "        [1, 0, 1, 1, 0, 0, 1, 1, 1, 1, 1, 1, 1, 1, 1],\n",
        "        [1, 1, 1, 1, 1, 0, 1, 1, 1, 0, 0, 0, 0, 0, 0],\n",
        "        [1, 1, 1, 0, 1, 0, 1, 0, 1, 1, 0, 1, 1, 1, 1],\n",
        "        [1, 1, 1, 0, 1, 0, 0, 1, 1, 1, 1, 1, 0, 1, 9]]\n",
        "\n",
        "start = (3, 4)\n",
        "goal = (4, 14)\n",
        "# evenry movement cost is give is 1\n",
        "move_cost = 1\n",
        "\n",
        "#Manhattan distance calculation\n",
        "def heuristic(node):\n",
        "    return abs(node[0] - goal[0]) + abs(node[1] - goal[1])\n",
        "\n",
        "\n",
        "def astar_search(grid, start, goal, move_cost, heuristic):\n",
        "  #start the prioroty queue with indial node value\n",
        "    open_list = [(0, start)]\n",
        "    closed_set = set()\n",
        "    cost = {start: 0}\n",
        "    parent = {start: None}\n",
        "\n",
        "    # UDLR....rows,colms\n",
        "    possible_moves = [(-1, 0),\n",
        "                      (1, 0),\n",
        "                      (0, -1),\n",
        "                      (0, 1)]\n",
        "\n",
        "    while open_list:\n",
        "        current_cost, current_node = heapq.heappop(open_list) ##pop the lowest cost\n",
        "\n",
        "        if current_node == goal:\n",
        "            path = []\n",
        "            while current_node:\n",
        "                path.append(current_node) ##adding each node to the parent node for finding path\n",
        "                current_node = parent[current_node]\n",
        "            path.reverse()\n",
        "            return path, cost[goal]\n",
        "\n",
        "        closed_set.add(current_node) ##storing the visited node\n",
        "\n",
        "        for move in possible_moves:\n",
        "            neighbor = (current_node[0] + move[0], current_node[1] + move[1])\n",
        "\n",
        "            if 0 <= neighbor[0] < len(grid) and 0 <= neighbor[1] < len(grid[0]): ##checking the grid boundy\n",
        "                if grid[neighbor[0]][neighbor[1]] != 0 and neighbor not in closed_set:  ## 0 means closed path\n",
        "                    new_cost = cost[current_node] + move_cost\n",
        "\n",
        "                    if (new_cost, neighbor) not in open_list or new_cost < cost[neighbor]: ## cost check\n",
        "                        cost[neighbor] = new_cost\n",
        "                        parent[neighbor] = current_node\n",
        "                        estimated_cost = new_cost + heuristic(neighbor)\n",
        "                        heapq.heappush(open_list, (estimated_cost, neighbor)) ##pushing in queue\n",
        "\n",
        "    return None\n",
        "\n",
        "\n",
        "optimal_path, optimal_path_cost = astar_search(grid, start, goal, move_cost, heuristic)\n",
        "print(\"The optimal path cost is:\", optimal_path_cost)\n",
        "print(\"The optimal path is:\", optimal_path)\n"
      ],
      "metadata": {
        "colab": {
          "base_uri": "https://localhost:8080/"
        },
        "id": "OzyTmFiDh5Gl",
        "outputId": "af871355-9b88-4c34-ffcb-6b88e3d6b71f"
      },
      "execution_count": null,
      "outputs": [
        {
          "output_type": "stream",
          "name": "stdout",
          "text": [
            "The optimal path cost is: 21\n",
            "The optimal path is: [(3, 4), (2, 4), (2, 3), (1, 3), (0, 3), (0, 4), (0, 5), (0, 6), (1, 6), (2, 6), (2, 7), (2, 8), (3, 8), (4, 8), (4, 9), (4, 10), (4, 11), (3, 11), (3, 12), (3, 13), (3, 14), (4, 14)]\n"
          ]
        }
      ]
    },
    {
      "cell_type": "code",
      "source": [],
      "metadata": {
        "id": "V4L9xzPipFZW"
      },
      "execution_count": null,
      "outputs": []
    }
  ]
}