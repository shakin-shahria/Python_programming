{
  "nbformat": 4,
  "nbformat_minor": 0,
  "metadata": {
    "colab": {
      "provenance": [],
      "authorship_tag": "ABX9TyM4bWB9NbALH6FzPfKisih1",
      "include_colab_link": true
    },
    "kernelspec": {
      "name": "python3",
      "display_name": "Python 3"
    },
    "language_info": {
      "name": "python"
    }
  },
  "cells": [
    {
      "cell_type": "markdown",
      "metadata": {
        "id": "view-in-github",
        "colab_type": "text"
      },
      "source": [
        "<a href=\"https://colab.research.google.com/github/shakin-shahria/Python_programming/blob/main/CSE_3812/Offline_3/KNN_Classification.ipynb\" target=\"_parent\"><img src=\"https://colab.research.google.com/assets/colab-badge.svg\" alt=\"Open In Colab\"/></a>"
      ]
    },
    {
      "cell_type": "code",
      "source": [
        "#011201055\n",
        "import numpy as np"
      ],
      "metadata": {
        "id": "iXXoUgFGzcui"
      },
      "execution_count": null,
      "outputs": []
    },
    {
      "cell_type": "code",
      "execution_count": null,
      "metadata": {
        "id": "T-IS_rczy_jI"
      },
      "outputs": [],
      "source": [
        "path = '/content/offline_3(a).csv'\n",
        "data = np.genfromtxt(path,delimiter=',')"
      ]
    },
    {
      "cell_type": "code",
      "source": [
        "import random"
      ],
      "metadata": {
        "id": "6f7Sz2eX15d5"
      },
      "execution_count": null,
      "outputs": []
    },
    {
      "cell_type": "code",
      "source": [
        "data = data.tolist()"
      ],
      "metadata": {
        "id": "gwYNKuQt2LuY"
      },
      "execution_count": null,
      "outputs": []
    },
    {
      "cell_type": "code",
      "source": [
        "train = []\n",
        "val = []\n",
        "test = []"
      ],
      "metadata": {
        "id": "VJjxfJDf17ph"
      },
      "execution_count": null,
      "outputs": []
    },
    {
      "cell_type": "code",
      "source": [
        "def data_preparation(train_size,val_size,test_size):\n",
        "  random.shuffle(data)\n",
        "  for s in data:\n",
        "    num = random.random()\n",
        "    if num>=0 and num<=train_size:\n",
        "      train.append(s)\n",
        "    elif num>train_size and num<= train_size+val_size:\n",
        "      val.append(s)\n",
        "    else:\n",
        "      test.append(s)\n"
      ],
      "metadata": {
        "id": "CTgQT14rztup"
      },
      "execution_count": null,
      "outputs": []
    },
    {
      "cell_type": "code",
      "source": [
        "data_preparation(.7,.2,.1)"
      ],
      "metadata": {
        "id": "Uqb9qNZF4LPJ"
      },
      "execution_count": null,
      "outputs": []
    },
    {
      "cell_type": "code",
      "source": [
        "print(len(train))"
      ],
      "metadata": {
        "colab": {
          "base_uri": "https://localhost:8080/"
        },
        "id": "2dsJ0CU24P7p",
        "outputId": "b46b4f90-5646-4130-ee28-187d42bb5c37"
      },
      "execution_count": null,
      "outputs": [
        {
          "output_type": "stream",
          "name": "stdout",
          "text": [
            "558\n"
          ]
        }
      ]
    },
    {
      "cell_type": "code",
      "source": [
        "import math"
      ],
      "metadata": {
        "id": "jYzQK4tf7u5C"
      },
      "execution_count": null,
      "outputs": []
    },
    {
      "cell_type": "code",
      "source": [
        "def euclidean_dist(v,t):\n",
        "  d = 0\n",
        "  for x,y in zip(v,t):\n",
        "    d += (x-y)**2\n",
        "  return math.sqrt(d)"
      ],
      "metadata": {
        "id": "gqGjyU2f6cXh"
      },
      "execution_count": null,
      "outputs": []
    },
    {
      "cell_type": "code",
      "source": [
        "def sortfunc(d):\n",
        "  return d[1]"
      ],
      "metadata": {
        "id": "k-7jdkuB8pva"
      },
      "execution_count": null,
      "outputs": []
    },
    {
      "cell_type": "code",
      "source": [
        "def kNN_classifier(k,train,val):\n",
        "  distance = []\n",
        "  accuracy = 0\n",
        "  for v in val:\n",
        "    for t in train:\n",
        "      dist = euclidean_dist(v[:-1],t[:-1])\n",
        "      distance.append([t,dist])\n",
        "    distance.sort(key=sortfunc)\n",
        "    select = distance[:k]\n",
        "    label = {\n",
        "        0:0,\n",
        "        1:0\n",
        "\n",
        "    }\n",
        "    for s in select:\n",
        "      label[s[0][-1]] += 1\n",
        "    predicted_class = max(label,key=label.get)\n",
        "    if v[-1]-predicted_class == 0:\n",
        "      accuracy += 1\n",
        "  return accuracy/len(val)"
      ],
      "metadata": {
        "id": "t-W0a99I5-7x"
      },
      "execution_count": null,
      "outputs": []
    },
    {
      "cell_type": "code",
      "source": [
        "print(kNN_classifier(1,train,test))"
      ],
      "metadata": {
        "id": "nNd9ifeo_FWa",
        "colab": {
          "base_uri": "https://localhost:8080/"
        },
        "outputId": "4249642a-ae07-41cd-d55c-82f8f590eec4"
      },
      "execution_count": null,
      "outputs": [
        {
          "output_type": "stream",
          "name": "stdout",
          "text": [
            "0.9864864864864865\n"
          ]
        }
      ]
    }
  ]
}