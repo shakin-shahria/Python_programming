{
  "nbformat": 4,
  "nbformat_minor": 0,
  "metadata": {
    "colab": {
      "provenance": [],
      "authorship_tag": "ABX9TyOGpJXFVm+DP0COSvIh3tce",
      "include_colab_link": true
    },
    "kernelspec": {
      "name": "python3",
      "display_name": "Python 3"
    },
    "language_info": {
      "name": "python"
    }
  },
  "cells": [
    {
      "cell_type": "markdown",
      "metadata": {
        "id": "view-in-github",
        "colab_type": "text"
      },
      "source": [
        "<a href=\"https://colab.research.google.com/github/shakin-shahria/Python_programming/blob/main/CSE_3812/Offline_3/KNN_Regression.ipynb\" target=\"_parent\"><img src=\"https://colab.research.google.com/assets/colab-badge.svg\" alt=\"Open In Colab\"/></a>"
      ]
    },
    {
      "cell_type": "code",
      "source": [
        "#011201055\n",
        "import numpy as np\n",
        "\n",
        "path = '/content/Offline_3(b).csv'\n",
        "data = np.genfromtxt(path, delimiter=',')\n",
        "\n",
        "import random\n",
        "\n",
        "data = data.tolist()\n",
        "\n",
        "train = []\n",
        "val = []\n",
        "test = []\n",
        "\n",
        "def data_preparation(data, train_size, val_size, test_size):\n",
        "    random.shuffle(data)\n",
        "    train_end = int(train_size * len(data))\n",
        "    val_end = train_end + int(val_size * len(data))\n",
        "    train = data[:train_end]\n",
        "    val = data[train_end:val_end]\n",
        "    test = data[val_end:]\n",
        "    return train, val, test\n",
        "\n",
        "train_size = 0.65\n",
        "val_size = 0.10\n",
        "test_size = 0.25\n",
        "\n",
        "train, val, test = data_preparation(data, train_size, val_size, test_size)\n",
        "\n",
        "print(len(train))\n",
        "print(len(val))\n",
        "print(len(test))\n",
        "\n",
        "def euclidean_dist(p1, p2):\n",
        "    return np.sqrt(np.sum((np.array(p1) - np.array(p2)) ** 2))\n",
        "\n",
        "def kNN_regressor(k, train, val):\n",
        "    Error = 0\n",
        "    for V in val:\n",
        "        distance = []\n",
        "        for T in train:\n",
        "            dist = euclidean_dist(V[:-1], T[:-1])\n",
        "            distance.append([T, dist])\n",
        "        distance.sort(key=lambda x: x[1])\n",
        "        select = distance[:k]\n",
        "        _sum = 0\n",
        "        for s in select:\n",
        "            _sum = _sum + s[0][-1]\n",
        "        _sum = _sum / k\n",
        "        Error = Error + abs(V[-1] - _sum)  #  absolute error here\n",
        "    return Error / len(val)\n",
        "\n",
        "K = 15\n",
        "\n",
        "error_count = kNN_regressor(K, train, val)\n",
        "print(\"Mean Absolute Error:\", error_count)  # Print Mean Absolute Error\n"
      ],
      "metadata": {
        "colab": {
          "base_uri": "https://localhost:8080/"
        },
        "id": "q2sHQNdr43WA",
        "outputId": "59e051e5-ba8f-4c98-93b1-19a13ac66d74"
      },
      "execution_count": null,
      "outputs": [
        {
          "output_type": "stream",
          "name": "stdout",
          "text": [
            "264\n",
            "40\n",
            "103\n",
            "Mean Absolute Error: 277096.1374999999\n"
          ]
        }
      ]
    }
  ]
}